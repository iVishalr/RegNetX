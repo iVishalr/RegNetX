{
 "cells": [
  {
   "cell_type": "code",
   "execution_count": 1,
   "id": "cc4d7498",
   "metadata": {},
   "outputs": [],
   "source": [
    "import torch\n",
    "import torch.nn as nn\n",
    "import torch.nn.functional as F\n",
    "import numpy\n",
    "import torchvision\n",
    "from tqdm import tqdm\n",
    "from torchvision.datasets import CIFAR10\n",
    "import torchvision.transforms as transforms"
   ]
  },
  {
   "cell_type": "code",
   "execution_count": 2,
   "id": "ff967d6b",
   "metadata": {},
   "outputs": [],
   "source": [
    "DATASET_PATH = \"./data/\""
   ]
  },
  {
   "cell_type": "code",
   "execution_count": 3,
   "id": "572aa19d",
   "metadata": {},
   "outputs": [
    {
     "name": "stdout",
     "output_type": "stream",
     "text": [
      "Files already downloaded and verified\n",
      "Files already downloaded and verified\n"
     ]
    }
   ],
   "source": [
    "transform=transforms.Compose([\n",
    "                        transforms.Resize((48,48)),\n",
    "                        transforms.ToTensor(),\n",
    "                        transforms.RandomHorizontalFlip(0.5),\n",
    "                        transforms.Normalize(mean=(0.4913997551666284, 0.48215855929893703, 0.4465309133731618),\n",
    "                                  std=(0.24703225141799082, 0.24348516474564, 0.26158783926049628))\n",
    "                    ])\n",
    "\n",
    "train_dataset = CIFAR10(root=DATASET_PATH, train=True, download=True, transform=transform)\n",
    "test_dataset = CIFAR10(root=DATASET_PATH, train=False, download=True, transform=transform)"
   ]
  },
  {
   "cell_type": "code",
   "execution_count": 4,
   "id": "f32aa278",
   "metadata": {},
   "outputs": [
    {
     "name": "stdout",
     "output_type": "stream",
     "text": [
      "number of parameters:  14297642\n"
     ]
    }
   ],
   "source": [
    "from regnet import regnetx_032 as RegNet32, XBlock\n",
    "\n",
    "model = RegNet32(block=XBlock, num_classes=10)"
   ]
  },
  {
   "cell_type": "code",
   "execution_count": null,
   "id": "a93ae805",
   "metadata": {},
   "outputs": [
    {
     "name": "stderr",
     "output_type": "stream",
     "text": [
      "Epoch: 1 it: 391 | loss: 2.22691 accuracy: 0.12586: 100%|█████████████████████████████████████████████████████████████| 391/391 [00:17<00:00, 22.01it/s]\n"
     ]
    },
    {
     "name": "stdout",
     "output_type": "stream",
     "text": [
      "Test loss: 2.2364413738250732 accuracy:0.171875\n"
     ]
    },
    {
     "name": "stderr",
     "output_type": "stream",
     "text": [
      "Epoch: 2 it: 391 | loss: 2.30238 accuracy: 0.14400: 100%|█████████████████████████████████████████████████████████████| 391/391 [00:16<00:00, 23.62it/s]\n"
     ]
    },
    {
     "name": "stdout",
     "output_type": "stream",
     "text": [
      "Test loss: 2.1805107593536377 accuracy:0.140625\n"
     ]
    },
    {
     "name": "stderr",
     "output_type": "stream",
     "text": [
      "Epoch: 3 it: 391 | loss: 2.24762 accuracy: 0.15576: 100%|█████████████████████████████████████████████████████████████| 391/391 [00:16<00:00, 23.61it/s]\n"
     ]
    },
    {
     "name": "stdout",
     "output_type": "stream",
     "text": [
      "Test loss: 2.271078586578369 accuracy:0.15625\n"
     ]
    },
    {
     "name": "stderr",
     "output_type": "stream",
     "text": [
      "Epoch: 4 it: 391 | loss: 2.07898 accuracy: 0.16732: 100%|█████████████████████████████████████████████████████████████| 391/391 [00:16<00:00, 23.88it/s]\n"
     ]
    },
    {
     "name": "stdout",
     "output_type": "stream",
     "text": [
      "Test loss: 2.1573822498321533 accuracy:0.1484375\n"
     ]
    },
    {
     "name": "stderr",
     "output_type": "stream",
     "text": [
      "Epoch: 5 it: 391 | loss: 2.00642 accuracy: 0.18724: 100%|█████████████████████████████████████████████████████████████| 391/391 [00:16<00:00, 23.37it/s]\n"
     ]
    },
    {
     "name": "stdout",
     "output_type": "stream",
     "text": [
      "Test loss: 2.064654588699341 accuracy:0.2265625\n"
     ]
    },
    {
     "name": "stderr",
     "output_type": "stream",
     "text": [
      "Epoch: 6 it: 391 | loss: 2.08513 accuracy: 0.21190: 100%|█████████████████████████████████████████████████████████████| 391/391 [00:16<00:00, 23.63it/s]\n"
     ]
    },
    {
     "name": "stdout",
     "output_type": "stream",
     "text": [
      "Test loss: 2.0204179286956787 accuracy:0.234375\n"
     ]
    },
    {
     "name": "stderr",
     "output_type": "stream",
     "text": [
      "Epoch: 7 it: 391 | loss: 1.87846 accuracy: 0.22054: 100%|█████████████████████████████████████████████████████████████| 391/391 [00:16<00:00, 23.71it/s]\n"
     ]
    },
    {
     "name": "stdout",
     "output_type": "stream",
     "text": [
      "Test loss: 1.98076593875885 accuracy:0.234375\n"
     ]
    },
    {
     "name": "stderr",
     "output_type": "stream",
     "text": [
      "Epoch: 8 it: 391 | loss: 2.00629 accuracy: 0.23280: 100%|█████████████████████████████████████████████████████████████| 391/391 [00:16<00:00, 23.66it/s]\n"
     ]
    },
    {
     "name": "stdout",
     "output_type": "stream",
     "text": [
      "Test loss: 1.9571913480758667 accuracy:0.3046875\n"
     ]
    },
    {
     "name": "stderr",
     "output_type": "stream",
     "text": [
      "Epoch: 9 it: 391 | loss: 1.82188 accuracy: 0.24484: 100%|█████████████████████████████████████████████████████████████| 391/391 [00:16<00:00, 23.42it/s]\n"
     ]
    },
    {
     "name": "stdout",
     "output_type": "stream",
     "text": [
      "Test loss: 1.9187872409820557 accuracy:0.2265625\n"
     ]
    },
    {
     "name": "stderr",
     "output_type": "stream",
     "text": [
      "Epoch: 10 it: 391 | loss: 1.88049 accuracy: 0.26190: 100%|████████████████████████████████████████████████████████████| 391/391 [00:16<00:00, 23.57it/s]\n"
     ]
    },
    {
     "name": "stdout",
     "output_type": "stream",
     "text": [
      "Test loss: 1.8411623239517212 accuracy:0.2734375\n"
     ]
    },
    {
     "name": "stderr",
     "output_type": "stream",
     "text": [
      "Epoch: 11 it: 391 | loss: 1.71698 accuracy: 0.28170: 100%|████████████████████████████████████████████████████████████| 391/391 [00:17<00:00, 22.90it/s]\n"
     ]
    },
    {
     "name": "stdout",
     "output_type": "stream",
     "text": [
      "Test loss: 1.9765030145645142 accuracy:0.25\n"
     ]
    },
    {
     "name": "stderr",
     "output_type": "stream",
     "text": [
      "Epoch: 12 it: 391 | loss: 1.86192 accuracy: 0.29644: 100%|████████████████████████████████████████████████████████████| 391/391 [00:16<00:00, 23.48it/s]\n"
     ]
    },
    {
     "name": "stdout",
     "output_type": "stream",
     "text": [
      "Test loss: 1.871229648590088 accuracy:0.3125\n"
     ]
    },
    {
     "name": "stderr",
     "output_type": "stream",
     "text": [
      "Epoch: 13 it: 391 | loss: 1.77917 accuracy: 0.30912: 100%|████████████████████████████████████████████████████████████| 391/391 [00:16<00:00, 23.58it/s]\n"
     ]
    },
    {
     "name": "stdout",
     "output_type": "stream",
     "text": [
      "Test loss: 1.6406049728393555 accuracy:0.328125\n"
     ]
    },
    {
     "name": "stderr",
     "output_type": "stream",
     "text": [
      "Epoch: 14 it: 391 | loss: 1.73599 accuracy: 0.32042: 100%|████████████████████████████████████████████████████████████| 391/391 [00:16<00:00, 23.77it/s]\n"
     ]
    },
    {
     "name": "stdout",
     "output_type": "stream",
     "text": [
      "Test loss: 1.7475597858428955 accuracy:0.3046875\n"
     ]
    },
    {
     "name": "stderr",
     "output_type": "stream",
     "text": [
      "Epoch: 15 it: 391 | loss: 1.76305 accuracy: 0.33580: 100%|████████████████████████████████████████████████████████████| 391/391 [00:16<00:00, 23.33it/s]\n"
     ]
    },
    {
     "name": "stdout",
     "output_type": "stream",
     "text": [
      "Test loss: 1.945739984512329 accuracy:0.3203125\n"
     ]
    },
    {
     "name": "stderr",
     "output_type": "stream",
     "text": [
      "Epoch: 16 it: 391 | loss: 1.80347 accuracy: 0.31650: 100%|████████████████████████████████████████████████████████████| 391/391 [00:16<00:00, 23.50it/s]\n"
     ]
    },
    {
     "name": "stdout",
     "output_type": "stream",
     "text": [
      "Test loss: 1.9033201932907104 accuracy:0.25\n"
     ]
    },
    {
     "name": "stderr",
     "output_type": "stream",
     "text": [
      "Epoch: 17 it: 391 | loss: 1.67590 accuracy: 0.33072: 100%|████████████████████████████████████████████████████████████| 391/391 [00:16<00:00, 23.70it/s]\n"
     ]
    },
    {
     "name": "stdout",
     "output_type": "stream",
     "text": [
      "Test loss: 1.6733481884002686 accuracy:0.359375\n"
     ]
    },
    {
     "name": "stderr",
     "output_type": "stream",
     "text": [
      "Epoch: 18 it: 391 | loss: 1.66706 accuracy: 0.37034: 100%|████████████████████████████████████████████████████████████| 391/391 [00:16<00:00, 23.37it/s]\n"
     ]
    },
    {
     "name": "stdout",
     "output_type": "stream",
     "text": [
      "Test loss: 1.7516177892684937 accuracy:0.3203125\n"
     ]
    },
    {
     "name": "stderr",
     "output_type": "stream",
     "text": [
      "Epoch: 19 it: 391 | loss: 1.49878 accuracy: 0.39250: 100%|████████████████████████████████████████████████████████████| 391/391 [00:16<00:00, 23.54it/s]\n"
     ]
    },
    {
     "name": "stdout",
     "output_type": "stream",
     "text": [
      "Test loss: 1.5347676277160645 accuracy:0.390625\n"
     ]
    },
    {
     "name": "stderr",
     "output_type": "stream",
     "text": [
      "Epoch: 20 it: 391 | loss: 1.76449 accuracy: 0.42198: 100%|████████████████████████████████████████████████████████████| 391/391 [00:16<00:00, 23.49it/s]\n"
     ]
    },
    {
     "name": "stdout",
     "output_type": "stream",
     "text": [
      "Test loss: 1.487312912940979 accuracy:0.3671875\n"
     ]
    },
    {
     "name": "stderr",
     "output_type": "stream",
     "text": [
      "Epoch: 21 it: 391 | loss: 1.48161 accuracy: 0.43592: 100%|████████████████████████████████████████████████████████████| 391/391 [00:16<00:00, 23.54it/s]\n"
     ]
    },
    {
     "name": "stdout",
     "output_type": "stream",
     "text": [
      "Test loss: 1.3961200714111328 accuracy:0.5625\n"
     ]
    },
    {
     "name": "stderr",
     "output_type": "stream",
     "text": [
      "Epoch: 22 it: 391 | loss: 1.47175 accuracy: 0.43742: 100%|████████████████████████████████████████████████████████████| 391/391 [00:16<00:00, 23.29it/s]\n"
     ]
    },
    {
     "name": "stdout",
     "output_type": "stream",
     "text": [
      "Test loss: 1.524802327156067 accuracy:0.3984375\n"
     ]
    },
    {
     "name": "stderr",
     "output_type": "stream",
     "text": [
      "Epoch: 23 it: 391 | loss: 1.42182 accuracy: 0.44978: 100%|████████████████████████████████████████████████████████████| 391/391 [00:16<00:00, 23.50it/s]\n"
     ]
    },
    {
     "name": "stdout",
     "output_type": "stream",
     "text": [
      "Test loss: 1.8751370906829834 accuracy:0.3359375\n"
     ]
    },
    {
     "name": "stderr",
     "output_type": "stream",
     "text": [
      "Epoch: 24 it: 391 | loss: 1.36056 accuracy: 0.46968: 100%|████████████████████████████████████████████████████████████| 391/391 [00:16<00:00, 23.50it/s]\n"
     ]
    },
    {
     "name": "stdout",
     "output_type": "stream",
     "text": [
      "Test loss: 1.2335399389266968 accuracy:0.5703125\n"
     ]
    },
    {
     "name": "stderr",
     "output_type": "stream",
     "text": [
      "Epoch: 25 it: 391 | loss: 1.05858 accuracy: 0.46894: 100%|████████████████████████████████████████████████████████████| 391/391 [00:16<00:00, 23.64it/s]\n"
     ]
    },
    {
     "name": "stdout",
     "output_type": "stream",
     "text": [
      "Test loss: 1.5973798036575317 accuracy:0.3671875\n"
     ]
    },
    {
     "name": "stderr",
     "output_type": "stream",
     "text": [
      "Epoch: 26 it: 391 | loss: 1.65063 accuracy: 0.48232: 100%|████████████████████████████████████████████████████████████| 391/391 [00:16<00:00, 23.13it/s]\n"
     ]
    },
    {
     "name": "stdout",
     "output_type": "stream",
     "text": [
      "Test loss: 1.5155277252197266 accuracy:0.4609375\n"
     ]
    },
    {
     "name": "stderr",
     "output_type": "stream",
     "text": [
      "Epoch: 27 it: 391 | loss: 1.32640 accuracy: 0.49060: 100%|████████████████████████████████████████████████████████████| 391/391 [00:16<00:00, 23.31it/s]\n"
     ]
    },
    {
     "name": "stdout",
     "output_type": "stream",
     "text": [
      "Test loss: 1.3889650106430054 accuracy:0.4921875\n"
     ]
    },
    {
     "name": "stderr",
     "output_type": "stream",
     "text": [
      "Epoch: 28 it: 391 | loss: 1.96568 accuracy: 0.47004: 100%|████████████████████████████████████████████████████████████| 391/391 [00:16<00:00, 23.17it/s]\n"
     ]
    },
    {
     "name": "stdout",
     "output_type": "stream",
     "text": [
      "Test loss: 2.281308889389038 accuracy:0.1875\n"
     ]
    },
    {
     "name": "stderr",
     "output_type": "stream",
     "text": [
      "Epoch: 29 it: 391 | loss: 1.61605 accuracy: 0.43216: 100%|████████████████████████████████████████████████████████████| 391/391 [00:16<00:00, 23.39it/s]\n"
     ]
    },
    {
     "name": "stdout",
     "output_type": "stream",
     "text": [
      "Test loss: 1.489096999168396 accuracy:0.4765625\n"
     ]
    },
    {
     "name": "stderr",
     "output_type": "stream",
     "text": [
      "Epoch: 30 it: 391 | loss: 1.30718 accuracy: 0.46784: 100%|████████████████████████████████████████████████████████████| 391/391 [00:16<00:00, 23.55it/s]\n"
     ]
    },
    {
     "name": "stdout",
     "output_type": "stream",
     "text": [
      "Test loss: 1.798429250717163 accuracy:0.34375\n"
     ]
    },
    {
     "name": "stderr",
     "output_type": "stream",
     "text": [
      "Epoch: 31 it: 391 | loss: 1.20110 accuracy: 0.45926: 100%|████████████████████████████████████████████████████████████| 391/391 [00:16<00:00, 23.67it/s]\n"
     ]
    },
    {
     "name": "stdout",
     "output_type": "stream",
     "text": [
      "Test loss: 1.3418700695037842 accuracy:0.5859375\n"
     ]
    },
    {
     "name": "stderr",
     "output_type": "stream",
     "text": [
      "Epoch: 32 it: 391 | loss: 1.47295 accuracy: 0.45136: 100%|████████████████████████████████████████████████████████████| 391/391 [00:16<00:00, 23.52it/s]\n"
     ]
    },
    {
     "name": "stdout",
     "output_type": "stream",
     "text": [
      "Test loss: 1.601630687713623 accuracy:0.4453125\n"
     ]
    },
    {
     "name": "stderr",
     "output_type": "stream",
     "text": [
      "Epoch: 33 it: 391 | loss: 1.58945 accuracy: 0.45966: 100%|████████████████████████████████████████████████████████████| 391/391 [00:16<00:00, 23.39it/s]\n"
     ]
    },
    {
     "name": "stdout",
     "output_type": "stream",
     "text": [
      "Test loss: 1.8064472675323486 accuracy:0.3203125\n"
     ]
    },
    {
     "name": "stderr",
     "output_type": "stream",
     "text": [
      "Epoch: 34 it: 391 | loss: 1.45550 accuracy: 0.46988: 100%|████████████████████████████████████████████████████████████| 391/391 [00:16<00:00, 23.47it/s]\n"
     ]
    },
    {
     "name": "stdout",
     "output_type": "stream",
     "text": [
      "Test loss: 1.61173415184021 accuracy:0.421875\n"
     ]
    },
    {
     "name": "stderr",
     "output_type": "stream",
     "text": [
      "Epoch: 35 it: 391 | loss: 1.93182 accuracy: 0.47146: 100%|████████████████████████████████████████████████████████████| 391/391 [00:16<00:00, 23.71it/s]\n"
     ]
    },
    {
     "name": "stdout",
     "output_type": "stream",
     "text": [
      "Test loss: 2.205446243286133 accuracy:0.2578125\n"
     ]
    },
    {
     "name": "stderr",
     "output_type": "stream",
     "text": [
      "Epoch: 36 it: 369 | loss: 1.47978 accuracy: 0.34803:  94%|████████████████████████████████████████████████████████▍   | 368/391 [00:15<00:00, 23.74it/s]"
     ]
    }
   ],
   "source": [
    "from regnet import TrainingConfig, Trainer\n",
    "\n",
    "training_config = TrainingConfig(max_epochs=100, batch_size=128, learning_rate=3e-4, weight_decay=5e-4)\n",
    "trainer = Trainer(model=model, train_dataset=train_dataset, test_dataset=test_dataset, configs=training_config)\n",
    "trainer.train()"
   ]
  },
  {
   "cell_type": "code",
   "execution_count": null,
   "id": "02be10d2",
   "metadata": {},
   "outputs": [],
   "source": []
  }
 ],
 "metadata": {
  "kernelspec": {
   "display_name": "Python [conda env:pytorch] *",
   "language": "python",
   "name": "conda-env-pytorch-py"
  },
  "language_info": {
   "codemirror_mode": {
    "name": "ipython",
    "version": 3
   },
   "file_extension": ".py",
   "mimetype": "text/x-python",
   "name": "python",
   "nbconvert_exporter": "python",
   "pygments_lexer": "ipython3",
   "version": "3.9.9"
  }
 },
 "nbformat": 4,
 "nbformat_minor": 5
}
