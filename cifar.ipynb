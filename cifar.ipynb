{
 "cells": [
  {
   "cell_type": "code",
   "execution_count": 1,
   "id": "cc4d7498",
   "metadata": {},
   "outputs": [],
   "source": [
    "import torch\n",
    "import torch.nn as nn\n",
    "import torch.nn.functional as F\n",
    "import numpy\n",
    "import torchvision\n",
    "from tqdm import tqdm\n",
    "from torchvision.datasets import CIFAR10\n",
    "import torchvision.transforms as transforms"
   ]
  },
  {
   "cell_type": "code",
   "execution_count": 2,
   "id": "ff967d6b",
   "metadata": {},
   "outputs": [],
   "source": [
    "DATASET_PATH = \"./data/\""
   ]
  },
  {
   "cell_type": "code",
   "execution_count": 3,
   "id": "572aa19d",
   "metadata": {},
   "outputs": [
    {
     "name": "stdout",
     "output_type": "stream",
     "text": [
      "Files already downloaded and verified\n",
      "Files already downloaded and verified\n"
     ]
    }
   ],
   "source": [
    "transform=transforms.Compose([\n",
    "                        transforms.Resize((48,48)),\n",
    "                        transforms.ToTensor(),\n",
    "                        transforms.RandomHorizontalFlip(0.5),\n",
    "                        transforms.Normalize(mean=(0.4913997551666284, 0.48215855929893703, 0.4465309133731618),\n",
    "                                  std=(0.24703225141799082, 0.24348516474564, 0.26158783926049628))\n",
    "                    ])\n",
    "\n",
    "train_dataset = CIFAR10(root=DATASET_PATH, train=True, download=True, transform=transform)\n",
    "test_dataset = CIFAR10(root=DATASET_PATH, train=False, download=True, transform=transform)"
   ]
  },
  {
   "cell_type": "code",
   "execution_count": 4,
   "id": "f32aa278",
   "metadata": {},
   "outputs": [
    {
     "name": "stdout",
     "output_type": "stream",
     "text": [
      "number of parameters:  10020362\n"
     ]
    }
   ],
   "source": [
    "from regnet import regnetx_016 as RegNet016, XBlock, YBlock\n",
    "\n",
    "model = RegNet016(block=YBlock, num_classes=10)"
   ]
  },
  {
   "cell_type": "code",
   "execution_count": null,
   "id": "a93ae805",
   "metadata": {},
   "outputs": [
    {
     "name": "stderr",
     "output_type": "stream",
     "text": [
      "Epoch: 1 it: 196 | loss: 1.94239 accuracy: 0.16348: 100%|█| 196/196 [00:11<00:00\n"
     ]
    },
    {
     "name": "stdout",
     "output_type": "stream",
     "text": [
      "Test loss: 1.8991155624389648 accuracy:0.24609375\n"
     ]
    },
    {
     "name": "stderr",
     "output_type": "stream",
     "text": [
      "Epoch: 2 it: 196 | loss: 1.90676 accuracy: 0.26090: 100%|█| 196/196 [00:10<00:00\n"
     ]
    },
    {
     "name": "stdout",
     "output_type": "stream",
     "text": [
      "Test loss: 1.905828833580017 accuracy:0.18359375\n"
     ]
    },
    {
     "name": "stderr",
     "output_type": "stream",
     "text": [
      "Epoch: 3 it: 196 | loss: 1.82725 accuracy: 0.27336: 100%|█| 196/196 [00:10<00:00\n"
     ]
    },
    {
     "name": "stdout",
     "output_type": "stream",
     "text": [
      "Test loss: 1.9896950721740723 accuracy:0.2421875\n"
     ]
    },
    {
     "name": "stderr",
     "output_type": "stream",
     "text": [
      "Epoch: 4 it: 196 | loss: 1.95345 accuracy: 0.28910: 100%|█| 196/196 [00:10<00:00\n"
     ]
    },
    {
     "name": "stdout",
     "output_type": "stream",
     "text": [
      "Test loss: 1.9024896621704102 accuracy:0.2421875\n"
     ]
    },
    {
     "name": "stderr",
     "output_type": "stream",
     "text": [
      "Epoch: 5 it: 196 | loss: 1.69100 accuracy: 0.32422: 100%|█| 196/196 [00:10<00:00\n"
     ]
    },
    {
     "name": "stdout",
     "output_type": "stream",
     "text": [
      "Test loss: 1.8320592641830444 accuracy:0.2734375\n"
     ]
    },
    {
     "name": "stderr",
     "output_type": "stream",
     "text": [
      "Epoch: 6 it: 196 | loss: 1.60492 accuracy: 0.35954: 100%|█| 196/196 [00:10<00:00\n"
     ]
    },
    {
     "name": "stdout",
     "output_type": "stream",
     "text": [
      "Test loss: 1.635878086090088 accuracy:0.30078125\n"
     ]
    },
    {
     "name": "stderr",
     "output_type": "stream",
     "text": [
      "Epoch: 7 it: 196 | loss: 1.56099 accuracy: 0.37470: 100%|█| 196/196 [00:10<00:00\n"
     ]
    },
    {
     "name": "stdout",
     "output_type": "stream",
     "text": [
      "Test loss: 1.9053186178207397 accuracy:0.28515625\n"
     ]
    },
    {
     "name": "stderr",
     "output_type": "stream",
     "text": [
      "Epoch: 8 it: 196 | loss: 1.57815 accuracy: 0.37380: 100%|█| 196/196 [00:10<00:00\n"
     ]
    },
    {
     "name": "stdout",
     "output_type": "stream",
     "text": [
      "Test loss: 1.5521093606948853 accuracy:0.390625\n"
     ]
    },
    {
     "name": "stderr",
     "output_type": "stream",
     "text": [
      "Epoch: 9 it: 196 | loss: 1.27114 accuracy: 0.46600: 100%|█| 196/196 [00:10<00:00\n"
     ]
    },
    {
     "name": "stdout",
     "output_type": "stream",
     "text": [
      "Test loss: 1.2668602466583252 accuracy:0.5234375\n"
     ]
    },
    {
     "name": "stderr",
     "output_type": "stream",
     "text": [
      "Epoch: 10 it: 196 | loss: 1.17147 accuracy: 0.50986: 100%|█| 196/196 [00:10<00:0\n"
     ]
    },
    {
     "name": "stdout",
     "output_type": "stream",
     "text": [
      "Test loss: 1.4009331464767456 accuracy:0.50390625\n"
     ]
    },
    {
     "name": "stderr",
     "output_type": "stream",
     "text": [
      "Epoch: 11 it: 196 | loss: 1.18720 accuracy: 0.54892: 100%|█| 196/196 [00:10<00:0\n"
     ]
    },
    {
     "name": "stdout",
     "output_type": "stream",
     "text": [
      "Test loss: 1.4252361059188843 accuracy:0.50390625\n"
     ]
    },
    {
     "name": "stderr",
     "output_type": "stream",
     "text": [
      "Epoch: 12 it: 196 | loss: 1.23780 accuracy: 0.58372: 100%|█| 196/196 [00:10<00:0\n"
     ]
    },
    {
     "name": "stdout",
     "output_type": "stream",
     "text": [
      "Test loss: 1.3519731760025024 accuracy:0.49609375\n"
     ]
    },
    {
     "name": "stderr",
     "output_type": "stream",
     "text": [
      "Epoch: 13 it: 196 | loss: 1.09594 accuracy: 0.61246: 100%|█| 196/196 [00:10<00:0\n"
     ]
    },
    {
     "name": "stdout",
     "output_type": "stream",
     "text": [
      "Test loss: 1.239756464958191 accuracy:0.546875\n"
     ]
    },
    {
     "name": "stderr",
     "output_type": "stream",
     "text": [
      "Epoch: 14 it: 196 | loss: 1.18111 accuracy: 0.63916: 100%|█| 196/196 [00:10<00:0\n"
     ]
    },
    {
     "name": "stdout",
     "output_type": "stream",
     "text": [
      "Test loss: 1.2193188667297363 accuracy:0.58984375\n"
     ]
    },
    {
     "name": "stderr",
     "output_type": "stream",
     "text": [
      "Epoch: 15 it: 196 | loss: 1.08213 accuracy: 0.66802: 100%|█| 196/196 [00:10<00:0\n"
     ]
    },
    {
     "name": "stdout",
     "output_type": "stream",
     "text": [
      "Test loss: 1.1937061548233032 accuracy:0.5546875\n"
     ]
    },
    {
     "name": "stderr",
     "output_type": "stream",
     "text": [
      "Epoch: 16 it: 196 | loss: 1.03521 accuracy: 0.68870: 100%|█| 196/196 [00:10<00:0\n"
     ]
    },
    {
     "name": "stdout",
     "output_type": "stream",
     "text": [
      "Test loss: 1.087675929069519 accuracy:0.640625\n"
     ]
    },
    {
     "name": "stderr",
     "output_type": "stream",
     "text": [
      "Epoch: 17 it: 196 | loss: 0.97965 accuracy: 0.70854: 100%|█| 196/196 [00:10<00:0\n"
     ]
    },
    {
     "name": "stdout",
     "output_type": "stream",
     "text": [
      "Test loss: 1.1362532377243042 accuracy:0.609375\n"
     ]
    },
    {
     "name": "stderr",
     "output_type": "stream",
     "text": [
      "Epoch: 18 it: 196 | loss: 0.83635 accuracy: 0.72164: 100%|█| 196/196 [00:10<00:0\n"
     ]
    },
    {
     "name": "stdout",
     "output_type": "stream",
     "text": [
      "Test loss: 1.1109989881515503 accuracy:0.61328125\n"
     ]
    },
    {
     "name": "stderr",
     "output_type": "stream",
     "text": [
      "Epoch: 19 it: 196 | loss: 0.76804 accuracy: 0.73382: 100%|█| 196/196 [00:10<00:0\n"
     ]
    },
    {
     "name": "stdout",
     "output_type": "stream",
     "text": [
      "Test loss: 1.441504955291748 accuracy:0.5625\n"
     ]
    },
    {
     "name": "stderr",
     "output_type": "stream",
     "text": [
      "Epoch: 20 it: 196 | loss: 0.97071 accuracy: 0.75086: 100%|█| 196/196 [00:10<00:0\n"
     ]
    },
    {
     "name": "stdout",
     "output_type": "stream",
     "text": [
      "Test loss: 0.9654797911643982 accuracy:0.640625\n"
     ]
    },
    {
     "name": "stderr",
     "output_type": "stream",
     "text": [
      "Epoch: 21 it: 196 | loss: 0.90039 accuracy: 0.76142: 100%|█| 196/196 [00:10<00:0\n"
     ]
    },
    {
     "name": "stdout",
     "output_type": "stream",
     "text": [
      "Test loss: 1.0923434495925903 accuracy:0.625\n"
     ]
    },
    {
     "name": "stderr",
     "output_type": "stream",
     "text": [
      "Epoch: 22 it: 196 | loss: 0.69938 accuracy: 0.77142: 100%|█| 196/196 [00:10<00:0\n"
     ]
    },
    {
     "name": "stdout",
     "output_type": "stream",
     "text": [
      "Test loss: 1.1773847341537476 accuracy:0.59765625\n"
     ]
    },
    {
     "name": "stderr",
     "output_type": "stream",
     "text": [
      "Epoch: 23 it: 196 | loss: 0.74710 accuracy: 0.78196: 100%|█| 196/196 [00:10<00:0\n"
     ]
    },
    {
     "name": "stdout",
     "output_type": "stream",
     "text": [
      "Test loss: 1.4262369871139526 accuracy:0.546875\n"
     ]
    },
    {
     "name": "stderr",
     "output_type": "stream",
     "text": [
      "Epoch: 24 it: 196 | loss: 0.50582 accuracy: 0.79084: 100%|█| 196/196 [00:10<00:0\n"
     ]
    },
    {
     "name": "stdout",
     "output_type": "stream",
     "text": [
      "Test loss: 1.2675021886825562 accuracy:0.57421875\n"
     ]
    },
    {
     "name": "stderr",
     "output_type": "stream",
     "text": [
      "Epoch: 25 it: 196 | loss: 0.66225 accuracy: 0.80076: 100%|█| 196/196 [00:10<00:0\n"
     ]
    },
    {
     "name": "stdout",
     "output_type": "stream",
     "text": [
      "Test loss: 1.2254096269607544 accuracy:0.62890625\n"
     ]
    },
    {
     "name": "stderr",
     "output_type": "stream",
     "text": [
      "Epoch: 26 it: 196 | loss: 0.60700 accuracy: 0.80876: 100%|█| 196/196 [00:10<00:0\n"
     ]
    },
    {
     "name": "stdout",
     "output_type": "stream",
     "text": [
      "Test loss: 0.9348777532577515 accuracy:0.671875\n"
     ]
    },
    {
     "name": "stderr",
     "output_type": "stream",
     "text": [
      "Epoch: 27 it: 196 | loss: 0.43042 accuracy: 0.82098: 100%|█| 196/196 [00:10<00:0\n"
     ]
    },
    {
     "name": "stdout",
     "output_type": "stream",
     "text": [
      "Test loss: 1.5978084802627563 accuracy:0.56640625\n"
     ]
    },
    {
     "name": "stderr",
     "output_type": "stream",
     "text": [
      "Epoch: 28 it: 196 | loss: 0.58348 accuracy: 0.82430: 100%|█| 196/196 [00:10<00:0\n"
     ]
    },
    {
     "name": "stdout",
     "output_type": "stream",
     "text": [
      "Test loss: 1.2465274333953857 accuracy:0.58203125\n"
     ]
    },
    {
     "name": "stderr",
     "output_type": "stream",
     "text": [
      "Epoch: 29 it: 196 | loss: 0.45897 accuracy: 0.83378: 100%|█| 196/196 [00:10<00:0\n"
     ]
    },
    {
     "name": "stdout",
     "output_type": "stream",
     "text": [
      "Test loss: 1.1492335796356201 accuracy:0.65234375\n"
     ]
    },
    {
     "name": "stderr",
     "output_type": "stream",
     "text": [
      "Epoch: 30 it: 196 | loss: 0.62078 accuracy: 0.84036: 100%|█| 196/196 [00:10<00:0\n"
     ]
    },
    {
     "name": "stdout",
     "output_type": "stream",
     "text": [
      "Test loss: 0.9150509834289551 accuracy:0.72265625\n"
     ]
    },
    {
     "name": "stderr",
     "output_type": "stream",
     "text": [
      "Epoch: 31 it: 196 | loss: 0.64416 accuracy: 0.84760: 100%|█| 196/196 [00:10<00:0\n"
     ]
    },
    {
     "name": "stdout",
     "output_type": "stream",
     "text": [
      "Test loss: 1.0582454204559326 accuracy:0.64453125\n"
     ]
    },
    {
     "name": "stderr",
     "output_type": "stream",
     "text": [
      "Epoch: 32 it: 196 | loss: 0.44265 accuracy: 0.85234: 100%|█| 196/196 [00:10<00:0\n"
     ]
    },
    {
     "name": "stdout",
     "output_type": "stream",
     "text": [
      "Test loss: 0.9776447415351868 accuracy:0.6796875\n"
     ]
    },
    {
     "name": "stderr",
     "output_type": "stream",
     "text": [
      "Epoch: 33 it: 196 | loss: 0.51155 accuracy: 0.85710: 100%|█| 196/196 [00:10<00:0\n"
     ]
    },
    {
     "name": "stdout",
     "output_type": "stream",
     "text": [
      "Test loss: 1.044371247291565 accuracy:0.67578125\n"
     ]
    },
    {
     "name": "stderr",
     "output_type": "stream",
     "text": [
      "Epoch: 34 it: 196 | loss: 0.59822 accuracy: 0.86450: 100%|█| 196/196 [00:10<00:0\n"
     ]
    },
    {
     "name": "stdout",
     "output_type": "stream",
     "text": [
      "Test loss: 0.7946346998214722 accuracy:0.76171875\n"
     ]
    },
    {
     "name": "stderr",
     "output_type": "stream",
     "text": [
      "Epoch: 35 it: 196 | loss: 0.37627 accuracy: 0.86608: 100%|█| 196/196 [00:10<00:0\n"
     ]
    },
    {
     "name": "stdout",
     "output_type": "stream",
     "text": [
      "Test loss: 1.1419144868850708 accuracy:0.6171875\n"
     ]
    },
    {
     "name": "stderr",
     "output_type": "stream",
     "text": [
      "Epoch: 36 it: 196 | loss: 0.47099 accuracy: 0.87204: 100%|█| 196/196 [00:10<00:0\n"
     ]
    },
    {
     "name": "stdout",
     "output_type": "stream",
     "text": [
      "Test loss: 1.2129254341125488 accuracy:0.671875\n"
     ]
    },
    {
     "name": "stderr",
     "output_type": "stream",
     "text": [
      "Epoch: 37 it: 196 | loss: 0.46466 accuracy: 0.87612: 100%|█| 196/196 [00:10<00:0\n"
     ]
    },
    {
     "name": "stdout",
     "output_type": "stream",
     "text": [
      "Test loss: 1.2374999523162842 accuracy:0.64453125\n"
     ]
    },
    {
     "name": "stderr",
     "output_type": "stream",
     "text": [
      "Epoch: 38 it: 196 | loss: 0.35065 accuracy: 0.87900: 100%|█| 196/196 [00:10<00:0\n"
     ]
    },
    {
     "name": "stdout",
     "output_type": "stream",
     "text": [
      "Test loss: 1.0793237686157227 accuracy:0.72265625\n"
     ]
    },
    {
     "name": "stderr",
     "output_type": "stream",
     "text": [
      "Epoch: 39 it: 196 | loss: 0.48958 accuracy: 0.88438: 100%|█| 196/196 [00:10<00:0\n"
     ]
    },
    {
     "name": "stdout",
     "output_type": "stream",
     "text": [
      "Test loss: 1.215050458908081 accuracy:0.6953125\n"
     ]
    },
    {
     "name": "stderr",
     "output_type": "stream",
     "text": [
      "Epoch: 40 it: 196 | loss: 0.53893 accuracy: 0.88998: 100%|█| 196/196 [00:10<00:0\n"
     ]
    },
    {
     "name": "stdout",
     "output_type": "stream",
     "text": [
      "Test loss: 0.9427222013473511 accuracy:0.70703125\n"
     ]
    },
    {
     "name": "stderr",
     "output_type": "stream",
     "text": [
      "Epoch: 41 it: 196 | loss: 0.48175 accuracy: 0.88876: 100%|█| 196/196 [00:10<00:0\n"
     ]
    },
    {
     "name": "stdout",
     "output_type": "stream",
     "text": [
      "Test loss: 1.234207272529602 accuracy:0.63671875\n"
     ]
    },
    {
     "name": "stderr",
     "output_type": "stream",
     "text": [
      "Epoch: 42 it: 196 | loss: 0.43725 accuracy: 0.89508: 100%|█| 196/196 [00:10<00:0\n"
     ]
    },
    {
     "name": "stdout",
     "output_type": "stream",
     "text": [
      "Test loss: 1.0668060779571533 accuracy:0.71875\n"
     ]
    },
    {
     "name": "stderr",
     "output_type": "stream",
     "text": [
      "Epoch: 43 it: 196 | loss: 0.41919 accuracy: 0.89844: 100%|█| 196/196 [00:10<00:0\n"
     ]
    },
    {
     "name": "stdout",
     "output_type": "stream",
     "text": [
      "Test loss: 0.9687451124191284 accuracy:0.73046875\n"
     ]
    },
    {
     "name": "stderr",
     "output_type": "stream",
     "text": [
      "Epoch: 44 it: 196 | loss: 0.31063 accuracy: 0.90082: 100%|█| 196/196 [00:10<00:0\n"
     ]
    },
    {
     "name": "stdout",
     "output_type": "stream",
     "text": [
      "Test loss: 0.9629825949668884 accuracy:0.75\n"
     ]
    },
    {
     "name": "stderr",
     "output_type": "stream",
     "text": [
      "Epoch: 45 it: 196 | loss: 0.34874 accuracy: 0.90420: 100%|█| 196/196 [00:10<00:0\n"
     ]
    },
    {
     "name": "stdout",
     "output_type": "stream",
     "text": [
      "Test loss: 0.8648213148117065 accuracy:0.76953125\n"
     ]
    },
    {
     "name": "stderr",
     "output_type": "stream",
     "text": [
      "Epoch: 46 it: 196 | loss: 0.27659 accuracy: 0.90632: 100%|█| 196/196 [00:10<00:0\n"
     ]
    },
    {
     "name": "stdout",
     "output_type": "stream",
     "text": [
      "Test loss: 1.1309963464736938 accuracy:0.67578125\n"
     ]
    },
    {
     "name": "stderr",
     "output_type": "stream",
     "text": [
      "Epoch: 47 it: 196 | loss: 0.25030 accuracy: 0.90686: 100%|█| 196/196 [00:10<00:0\n"
     ]
    },
    {
     "name": "stdout",
     "output_type": "stream",
     "text": [
      "Test loss: 1.1652836799621582 accuracy:0.703125\n"
     ]
    },
    {
     "name": "stderr",
     "output_type": "stream",
     "text": [
      "Epoch: 48 it: 196 | loss: 0.23054 accuracy: 0.91124: 100%|█| 196/196 [00:10<00:0\n"
     ]
    },
    {
     "name": "stdout",
     "output_type": "stream",
     "text": [
      "Test loss: 1.0719423294067383 accuracy:0.73046875\n"
     ]
    },
    {
     "name": "stderr",
     "output_type": "stream",
     "text": [
      "Epoch: 49 it: 196 | loss: 0.28632 accuracy: 0.91630: 100%|█| 196/196 [00:10<00:0\n"
     ]
    },
    {
     "name": "stdout",
     "output_type": "stream",
     "text": [
      "Test loss: 1.1256747245788574 accuracy:0.71484375\n"
     ]
    },
    {
     "name": "stderr",
     "output_type": "stream",
     "text": [
      "Epoch: 50 it: 196 | loss: 0.18213 accuracy: 0.91626: 100%|█| 196/196 [00:10<00:0\n"
     ]
    },
    {
     "name": "stdout",
     "output_type": "stream",
     "text": [
      "Test loss: 1.0217750072479248 accuracy:0.70703125\n"
     ]
    },
    {
     "name": "stderr",
     "output_type": "stream",
     "text": [
      "Epoch: 51 it: 196 | loss: 0.28912 accuracy: 0.91842: 100%|█| 196/196 [00:10<00:0\n"
     ]
    },
    {
     "name": "stdout",
     "output_type": "stream",
     "text": [
      "Test loss: 0.8894667029380798 accuracy:0.7421875\n"
     ]
    },
    {
     "name": "stderr",
     "output_type": "stream",
     "text": [
      "Epoch: 52 it: 196 | loss: 0.28354 accuracy: 0.92248: 100%|█| 196/196 [00:10<00:0\n"
     ]
    },
    {
     "name": "stdout",
     "output_type": "stream",
     "text": [
      "Test loss: 1.0948184728622437 accuracy:0.703125\n"
     ]
    },
    {
     "name": "stderr",
     "output_type": "stream",
     "text": [
      "Epoch: 53 it: 196 | loss: 0.17623 accuracy: 0.92134: 100%|█| 196/196 [00:10<00:0\n"
     ]
    },
    {
     "name": "stdout",
     "output_type": "stream",
     "text": [
      "Test loss: 0.9040148258209229 accuracy:0.734375\n"
     ]
    },
    {
     "name": "stderr",
     "output_type": "stream",
     "text": [
      "Epoch: 54 it: 196 | loss: 0.16775 accuracy: 0.92498: 100%|█| 196/196 [00:10<00:0\n"
     ]
    },
    {
     "name": "stdout",
     "output_type": "stream",
     "text": [
      "Test loss: 1.5787475109100342 accuracy:0.578125\n"
     ]
    },
    {
     "name": "stderr",
     "output_type": "stream",
     "text": [
      "Epoch: 55 it: 196 | loss: 0.45722 accuracy: 0.92352: 100%|█| 196/196 [00:10<00:0\n"
     ]
    },
    {
     "name": "stdout",
     "output_type": "stream",
     "text": [
      "Test loss: 1.081108570098877 accuracy:0.7265625\n"
     ]
    },
    {
     "name": "stderr",
     "output_type": "stream",
     "text": [
      "Epoch: 56 it: 196 | loss: 0.19661 accuracy: 0.92616: 100%|█| 196/196 [00:10<00:0\n"
     ]
    },
    {
     "name": "stdout",
     "output_type": "stream",
     "text": [
      "Test loss: 0.8315585255622864 accuracy:0.76171875\n"
     ]
    },
    {
     "name": "stderr",
     "output_type": "stream",
     "text": [
      "Epoch: 57 it: 196 | loss: 0.24005 accuracy: 0.92874: 100%|█| 196/196 [00:10<00:0\n"
     ]
    },
    {
     "name": "stdout",
     "output_type": "stream",
     "text": [
      "Test loss: 0.9549155235290527 accuracy:0.6796875\n"
     ]
    },
    {
     "name": "stderr",
     "output_type": "stream",
     "text": [
      "Epoch: 58 it: 196 | loss: 0.19293 accuracy: 0.93234: 100%|█| 196/196 [00:10<00:0\n"
     ]
    },
    {
     "name": "stdout",
     "output_type": "stream",
     "text": [
      "Test loss: 1.1453343629837036 accuracy:0.7109375\n"
     ]
    },
    {
     "name": "stderr",
     "output_type": "stream",
     "text": [
      "Epoch: 59 it: 196 | loss: 0.22965 accuracy: 0.93236: 100%|█| 196/196 [00:10<00:0\n"
     ]
    },
    {
     "name": "stdout",
     "output_type": "stream",
     "text": [
      "Test loss: 1.057359218597412 accuracy:0.72265625\n"
     ]
    },
    {
     "name": "stderr",
     "output_type": "stream",
     "text": [
      "Epoch: 60 it: 196 | loss: 0.37351 accuracy: 0.93160: 100%|█| 196/196 [00:10<00:0\n"
     ]
    },
    {
     "name": "stdout",
     "output_type": "stream",
     "text": [
      "Test loss: 0.8281155228614807 accuracy:0.7578125\n"
     ]
    },
    {
     "name": "stderr",
     "output_type": "stream",
     "text": [
      "Epoch: 61 it: 196 | loss: 0.22023 accuracy: 0.93668: 100%|█| 196/196 [00:10<00:0\n"
     ]
    },
    {
     "name": "stdout",
     "output_type": "stream",
     "text": [
      "Test loss: 1.0100033283233643 accuracy:0.7421875\n"
     ]
    },
    {
     "name": "stderr",
     "output_type": "stream",
     "text": [
      "Epoch: 62 it: 196 | loss: 0.34928 accuracy: 0.93462: 100%|█| 196/196 [00:10<00:0\n"
     ]
    },
    {
     "name": "stdout",
     "output_type": "stream",
     "text": [
      "Test loss: 1.0974262952804565 accuracy:0.7265625\n"
     ]
    },
    {
     "name": "stderr",
     "output_type": "stream",
     "text": [
      "Epoch: 63 it: 196 | loss: 0.09041 accuracy: 0.93780: 100%|█| 196/196 [00:10<00:0\n"
     ]
    },
    {
     "name": "stdout",
     "output_type": "stream",
     "text": [
      "Test loss: 0.8429268598556519 accuracy:0.75\n"
     ]
    },
    {
     "name": "stderr",
     "output_type": "stream",
     "text": [
      "Epoch: 64 it: 196 | loss: 0.29147 accuracy: 0.93766: 100%|█| 196/196 [00:10<00:0\n"
     ]
    },
    {
     "name": "stdout",
     "output_type": "stream",
     "text": [
      "Test loss: 1.29147207736969 accuracy:0.66796875\n"
     ]
    },
    {
     "name": "stderr",
     "output_type": "stream",
     "text": [
      "Epoch: 65 it: 196 | loss: 0.24227 accuracy: 0.93888: 100%|█| 196/196 [00:10<00:0\n"
     ]
    },
    {
     "name": "stdout",
     "output_type": "stream",
     "text": [
      "Test loss: 0.8260048627853394 accuracy:0.76171875\n"
     ]
    },
    {
     "name": "stderr",
     "output_type": "stream",
     "text": [
      "Epoch: 66 it: 196 | loss: 0.47397 accuracy: 0.94106: 100%|█| 196/196 [00:10<00:0\n"
     ]
    },
    {
     "name": "stdout",
     "output_type": "stream",
     "text": [
      "Test loss: 1.0617586374282837 accuracy:0.76171875\n"
     ]
    },
    {
     "name": "stderr",
     "output_type": "stream",
     "text": [
      "Epoch: 67 it: 196 | loss: 0.35530 accuracy: 0.93914: 100%|█| 196/196 [00:10<00:0\n"
     ]
    },
    {
     "name": "stdout",
     "output_type": "stream",
     "text": [
      "Test loss: 1.256479263305664 accuracy:0.73046875\n"
     ]
    },
    {
     "name": "stderr",
     "output_type": "stream",
     "text": [
      "Epoch: 68 it: 196 | loss: 0.15985 accuracy: 0.94044: 100%|█| 196/196 [00:10<00:0\n"
     ]
    },
    {
     "name": "stdout",
     "output_type": "stream",
     "text": [
      "Test loss: 1.1387603282928467 accuracy:0.73046875\n"
     ]
    },
    {
     "name": "stderr",
     "output_type": "stream",
     "text": [
      "Epoch: 69 it: 196 | loss: 0.16557 accuracy: 0.94140: 100%|█| 196/196 [00:10<00:0\n"
     ]
    },
    {
     "name": "stdout",
     "output_type": "stream",
     "text": [
      "Test loss: 1.0714731216430664 accuracy:0.76171875\n"
     ]
    },
    {
     "name": "stderr",
     "output_type": "stream",
     "text": [
      "Epoch: 70 it: 196 | loss: 0.34983 accuracy: 0.94430: 100%|█| 196/196 [00:10<00:0\n"
     ]
    },
    {
     "name": "stdout",
     "output_type": "stream",
     "text": [
      "Test loss: 0.8148208856582642 accuracy:0.7890625\n"
     ]
    },
    {
     "name": "stderr",
     "output_type": "stream",
     "text": [
      "Epoch: 71 it: 196 | loss: 0.24666 accuracy: 0.94436: 100%|█| 196/196 [00:10<00:0\n"
     ]
    },
    {
     "name": "stdout",
     "output_type": "stream",
     "text": [
      "Test loss: 0.8399197459220886 accuracy:0.77734375\n"
     ]
    },
    {
     "name": "stderr",
     "output_type": "stream",
     "text": [
      "Epoch: 72 it: 196 | loss: 0.19474 accuracy: 0.94466: 100%|█| 196/196 [00:10<00:0\n"
     ]
    },
    {
     "name": "stdout",
     "output_type": "stream",
     "text": [
      "Test loss: 1.4190752506256104 accuracy:0.72265625\n"
     ]
    },
    {
     "name": "stderr",
     "output_type": "stream",
     "text": [
      "Epoch: 73 it: 196 | loss: 0.24666 accuracy: 0.94494: 100%|█| 196/196 [00:10<00:0\n"
     ]
    },
    {
     "name": "stdout",
     "output_type": "stream",
     "text": [
      "Test loss: 1.2057384252548218 accuracy:0.70703125\n"
     ]
    },
    {
     "name": "stderr",
     "output_type": "stream",
     "text": [
      "Epoch: 74 it: 196 | loss: 0.12482 accuracy: 0.94334: 100%|█| 196/196 [00:10<00:0\n"
     ]
    },
    {
     "name": "stdout",
     "output_type": "stream",
     "text": [
      "Test loss: 1.211037516593933 accuracy:0.72265625\n"
     ]
    },
    {
     "name": "stderr",
     "output_type": "stream",
     "text": [
      "Epoch: 75 it: 196 | loss: 0.40442 accuracy: 0.94622: 100%|█| 196/196 [00:10<00:0\n"
     ]
    },
    {
     "name": "stdout",
     "output_type": "stream",
     "text": [
      "Test loss: 1.213955283164978 accuracy:0.69140625\n"
     ]
    },
    {
     "name": "stderr",
     "output_type": "stream",
     "text": [
      "Epoch: 76 it: 196 | loss: 0.14968 accuracy: 0.94590: 100%|█| 196/196 [00:10<00:0\n"
     ]
    },
    {
     "name": "stdout",
     "output_type": "stream",
     "text": [
      "Test loss: 1.055719017982483 accuracy:0.73828125\n"
     ]
    },
    {
     "name": "stderr",
     "output_type": "stream",
     "text": [
      "Epoch: 77 it: 196 | loss: 0.20314 accuracy: 0.94790: 100%|█| 196/196 [00:10<00:0\n"
     ]
    },
    {
     "name": "stdout",
     "output_type": "stream",
     "text": [
      "Test loss: 1.2148798704147339 accuracy:0.6953125\n"
     ]
    },
    {
     "name": "stderr",
     "output_type": "stream",
     "text": [
      "Epoch: 78 it: 196 | loss: 0.28280 accuracy: 0.94604: 100%|█| 196/196 [00:10<00:0\n"
     ]
    },
    {
     "name": "stdout",
     "output_type": "stream",
     "text": [
      "Test loss: 1.0673869848251343 accuracy:0.72265625\n"
     ]
    },
    {
     "name": "stderr",
     "output_type": "stream",
     "text": [
      "Epoch: 79 it: 196 | loss: 0.17732 accuracy: 0.95038: 100%|█| 196/196 [00:10<00:0\n"
     ]
    },
    {
     "name": "stdout",
     "output_type": "stream",
     "text": [
      "Test loss: 1.1718634366989136 accuracy:0.734375\n"
     ]
    },
    {
     "name": "stderr",
     "output_type": "stream",
     "text": [
      "Epoch: 80 it: 196 | loss: 0.26764 accuracy: 0.94808: 100%|█| 196/196 [00:10<00:0\n"
     ]
    },
    {
     "name": "stdout",
     "output_type": "stream",
     "text": [
      "Test loss: 1.1020052433013916 accuracy:0.7265625\n"
     ]
    },
    {
     "name": "stderr",
     "output_type": "stream",
     "text": [
      "Epoch: 81 it: 196 | loss: 0.20257 accuracy: 0.94942: 100%|█| 196/196 [00:10<00:0\n"
     ]
    },
    {
     "name": "stdout",
     "output_type": "stream",
     "text": [
      "Test loss: 0.8681284785270691 accuracy:0.7734375\n"
     ]
    },
    {
     "name": "stderr",
     "output_type": "stream",
     "text": [
      "Epoch: 82 it: 196 | loss: 0.12018 accuracy: 0.95036: 100%|█| 196/196 [00:10<00:0\n"
     ]
    },
    {
     "name": "stdout",
     "output_type": "stream",
     "text": [
      "Test loss: 1.1257638931274414 accuracy:0.71875\n"
     ]
    },
    {
     "name": "stderr",
     "output_type": "stream",
     "text": [
      "Epoch: 83 it: 196 | loss: 0.24552 accuracy: 0.95106: 100%|█| 196/196 [00:10<00:0\n"
     ]
    },
    {
     "name": "stdout",
     "output_type": "stream",
     "text": [
      "Test loss: 0.9170170426368713 accuracy:0.74609375\n"
     ]
    },
    {
     "name": "stderr",
     "output_type": "stream",
     "text": [
      "Epoch: 84 it: 196 | loss: 0.17441 accuracy: 0.95280: 100%|█| 196/196 [00:10<00:0\n"
     ]
    },
    {
     "name": "stdout",
     "output_type": "stream",
     "text": [
      "Test loss: 1.0186767578125 accuracy:0.73828125\n"
     ]
    },
    {
     "name": "stderr",
     "output_type": "stream",
     "text": [
      "Epoch: 85 it: 196 | loss: 0.22675 accuracy: 0.95240: 100%|█| 196/196 [00:10<00:0\n"
     ]
    },
    {
     "name": "stdout",
     "output_type": "stream",
     "text": [
      "Test loss: 1.088362216949463 accuracy:0.7578125\n"
     ]
    },
    {
     "name": "stderr",
     "output_type": "stream",
     "text": [
      "Epoch: 86 it: 196 | loss: 0.17143 accuracy: 0.95208: 100%|█| 196/196 [00:10<00:0\n"
     ]
    },
    {
     "name": "stdout",
     "output_type": "stream",
     "text": [
      "Test loss: 1.0925729274749756 accuracy:0.734375\n"
     ]
    },
    {
     "name": "stderr",
     "output_type": "stream",
     "text": [
      "Epoch: 87 it: 196 | loss: 0.25303 accuracy: 0.95068: 100%|█| 196/196 [00:10<00:0\n"
     ]
    },
    {
     "name": "stdout",
     "output_type": "stream",
     "text": [
      "Test loss: 0.8936984539031982 accuracy:0.7734375\n"
     ]
    },
    {
     "name": "stderr",
     "output_type": "stream",
     "text": [
      "Epoch: 88 it: 196 | loss: 0.17084 accuracy: 0.95222: 100%|█| 196/196 [00:10<00:0\n"
     ]
    },
    {
     "name": "stdout",
     "output_type": "stream",
     "text": [
      "Test loss: 0.8798179626464844 accuracy:0.78125\n"
     ]
    },
    {
     "name": "stderr",
     "output_type": "stream",
     "text": [
      "Epoch: 89 it: 196 | loss: 0.18263 accuracy: 0.95228: 100%|█| 196/196 [00:10<00:0\n"
     ]
    },
    {
     "name": "stdout",
     "output_type": "stream",
     "text": [
      "Test loss: 0.9144340753555298 accuracy:0.75390625\n"
     ]
    },
    {
     "name": "stderr",
     "output_type": "stream",
     "text": [
      "Epoch: 90 it: 196 | loss: 0.24308 accuracy: 0.95452: 100%|█| 196/196 [00:10<00:0\n"
     ]
    },
    {
     "name": "stdout",
     "output_type": "stream",
     "text": [
      "Test loss: 1.9392133951187134 accuracy:0.67578125\n"
     ]
    },
    {
     "name": "stderr",
     "output_type": "stream",
     "text": [
      "Epoch: 91 it: 196 | loss: 0.17264 accuracy: 0.95264: 100%|█| 196/196 [00:10<00:0\n"
     ]
    },
    {
     "name": "stdout",
     "output_type": "stream",
     "text": [
      "Test loss: 0.8725600242614746 accuracy:0.75390625\n"
     ]
    },
    {
     "name": "stderr",
     "output_type": "stream",
     "text": [
      "Epoch: 92 it: 196 | loss: 0.24126 accuracy: 0.95498: 100%|█| 196/196 [00:10<00:0\n"
     ]
    },
    {
     "name": "stdout",
     "output_type": "stream",
     "text": [
      "Test loss: 1.0817499160766602 accuracy:0.73828125\n"
     ]
    },
    {
     "name": "stderr",
     "output_type": "stream",
     "text": [
      "Epoch: 93 it: 196 | loss: 0.16741 accuracy: 0.95702: 100%|█| 196/196 [00:10<00:0\n"
     ]
    },
    {
     "name": "stdout",
     "output_type": "stream",
     "text": [
      "Test loss: 0.9240296483039856 accuracy:0.75\n"
     ]
    },
    {
     "name": "stderr",
     "output_type": "stream",
     "text": [
      "Epoch: 94 it: 196 | loss: 0.20685 accuracy: 0.95638: 100%|█| 196/196 [00:10<00:0\n"
     ]
    },
    {
     "name": "stdout",
     "output_type": "stream",
     "text": [
      "Test loss: 0.9553669691085815 accuracy:0.78125\n"
     ]
    },
    {
     "name": "stderr",
     "output_type": "stream",
     "text": [
      "Epoch: 95 it: 196 | loss: 0.14603 accuracy: 0.95522: 100%|█| 196/196 [00:10<00:0\n"
     ]
    },
    {
     "name": "stdout",
     "output_type": "stream",
     "text": [
      "Test loss: 0.9175692796707153 accuracy:0.77734375\n"
     ]
    },
    {
     "name": "stderr",
     "output_type": "stream",
     "text": [
      "Epoch: 96 it: 196 | loss: 0.15937 accuracy: 0.95608: 100%|█| 196/196 [00:10<00:0\n"
     ]
    },
    {
     "name": "stdout",
     "output_type": "stream",
     "text": [
      "Test loss: 1.4092408418655396 accuracy:0.6796875\n"
     ]
    },
    {
     "name": "stderr",
     "output_type": "stream",
     "text": [
      "Epoch: 97 it: 154 | loss: 0.11435 accuracy: 0.96251:  78%|▊| 153/196 [00:08<00:0"
     ]
    }
   ],
   "source": [
    "from regnet import TrainingConfig, Trainer\n",
    "\n",
    "training_config = TrainingConfig(max_epochs=100, batch_size=256, learning_rate=6.27e-4, weight_decay=2e-4)\n",
    "trainer = Trainer(model=model, train_dataset=train_dataset, test_dataset=test_dataset, configs=training_config)\n",
    "trainer.train()"
   ]
  },
  {
   "cell_type": "code",
   "execution_count": null,
   "id": "02be10d2",
   "metadata": {},
   "outputs": [],
   "source": []
  }
 ],
 "metadata": {
  "kernelspec": {
   "display_name": "Python [conda env:pytorch] *",
   "language": "python",
   "name": "conda-env-pytorch-py"
  },
  "language_info": {
   "codemirror_mode": {
    "name": "ipython",
    "version": 3
   },
   "file_extension": ".py",
   "mimetype": "text/x-python",
   "name": "python",
   "nbconvert_exporter": "python",
   "pygments_lexer": "ipython3",
   "version": "3.9.9"
  }
 },
 "nbformat": 4,
 "nbformat_minor": 5
}
